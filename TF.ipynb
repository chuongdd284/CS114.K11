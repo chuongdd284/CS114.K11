{
  "nbformat": 4,
  "nbformat_minor": 0,
  "metadata": {
    "colab": {
      "name": "TF.ipynb",
      "provenance": [],
      "authorship_tag": "ABX9TyMfNOERf42rG2Uu4ILBvqYb",
      "include_colab_link": true
    },
    "kernelspec": {
      "name": "python3",
      "display_name": "Python 3"
    }
  },
  "cells": [
    {
      "cell_type": "markdown",
      "metadata": {
        "id": "view-in-github",
        "colab_type": "text"
      },
      "source": [
        "<a href=\"https://colab.research.google.com/github/silverGriffin/CS114.K11/blob/master/TF.ipynb\" target=\"_parent\"><img src=\"https://colab.research.google.com/assets/colab-badge.svg\" alt=\"Open In Colab\"/></a>"
      ]
    },
    {
      "cell_type": "code",
      "metadata": {
        "id": "xpDElgpfb3lq",
        "colab_type": "code",
        "colab": {
          "base_uri": "https://localhost:8080/",
          "height": 64
        },
        "outputId": "e3c40b05-7a20-4208-ff4e-63f6c2e405dc"
      },
      "source": [
        "from sklearn import metrics\n",
        "from sklearn.model_selection import cross_validate\n",
        "\n",
        "import tensorflow as tf\n",
        "from tensorflow.contrib import learn"
      ],
      "execution_count": 2,
      "outputs": [
        {
          "output_type": "display_data",
          "data": {
            "text/html": [
              "<p style=\"color: red;\">\n",
              "The default version of TensorFlow in Colab will soon switch to TensorFlow 2.x.<br>\n",
              "We recommend you <a href=\"https://www.tensorflow.org/guide/migrate\" target=\"_blank\">upgrade</a> now \n",
              "or ensure your notebook will continue to use TensorFlow 1.x via the <code>%tensorflow_version 1.x</code> magic:\n",
              "<a href=\"https://colab.research.google.com/notebooks/tensorflow_version.ipynb\" target=\"_blank\">more info</a>.</p>\n"
            ],
            "text/plain": [
              "<IPython.core.display.HTML object>"
            ]
          },
          "metadata": {
            "tags": []
          }
        }
      ]
    },
    {
      "cell_type": "code",
      "metadata": {
        "id": "9Kc3MyCdgVOs",
        "colab_type": "code",
        "colab": {}
      },
      "source": [
        "def main(unused_argv):\n",
        "  iris=learn.datasets.load_dataset(\"iris\")\n",
        "  x_train,x_test,y_train,y_test=cross_validate.train_test_split(\n",
        "      iris.data,iris.target,test_size=0.2,random_state=42\n",
        "  )\n",
        "  #build 3 layer DNN with 10,20,10 units respectively\n",
        "  classifier=learn.DNNClassifier(hidden_units=[10,20,10],n_classes=3)\n",
        "\n",
        "  #fit and predict\n",
        "  classifier.fit(x_train,y_train,step=200)\n",
        "  score=metrics.accuracy_score(y_test,classifier.predict(x_test))\n",
        "\n",
        "  print(\"Accuracy: {0:f}\", format(score))\n"
      ],
      "execution_count": 0,
      "outputs": []
    }
  ]
}
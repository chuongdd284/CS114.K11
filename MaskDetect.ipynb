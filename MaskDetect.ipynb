{
  "nbformat": 4,
  "nbformat_minor": 0,
  "metadata": {
    "colab": {
      "name": "MaskDetect",
      "provenance": [],
      "collapsed_sections": [],
      "include_colab_link": true
    },
    "kernelspec": {
      "name": "python3",
      "display_name": "Python 3"
    },
    "accelerator": "GPU"
  },
  "cells": [
    {
      "cell_type": "markdown",
      "metadata": {
        "id": "view-in-github",
        "colab_type": "text"
      },
      "source": [
        "<a href=\"https://colab.research.google.com/github/silverGriffin/CS114.K11/blob/master/MaskDetect.ipynb\" target=\"_parent\"><img src=\"https://colab.research.google.com/assets/colab-badge.svg\" alt=\"Open In Colab\"/></a>"
      ]
    },
    {
      "cell_type": "code",
      "metadata": {
        "id": "eiub0kIPHzUi",
        "colab_type": "code",
        "colab": {
          "base_uri": "https://localhost:8080/",
          "height": 243
        },
        "outputId": "7df3e185-7242-4fdd-e38d-a7d08fad9fa8"
      },
      "source": [
        "#sử dụng GPU của gg colab\n",
        "!apt-get install -y -qq software-properties-common python-software-properties module-init-tools\n",
        "!add-apt-repository -y ppa:alessandro-strada/ppa 2>&1 > /dev/null\n",
        "!apt-get update -qq 2>&1 > /dev/null\n",
        "!apt-get -y install -qq google-drive-ocamlfuse fuse\n",
        "from google.colab import auth\n",
        "auth.authenticate_user()\n",
        "from oauth2client.client import GoogleCredentials\n",
        "creds = GoogleCredentials.get_application_default()\n",
        "import getpass\n",
        "!google-drive-ocamlfuse -headless -id={creds.client_id} -secret={creds.client_secret} < /dev/null 2>&1 | grep URL\n",
        "vcode = getpass.getpass()\n",
        "!echo {vcode} | google-drive-ocamlfuse -headless -id={creds.client_id} -secret={creds.client_secret}"
      ],
      "execution_count": 1,
      "outputs": [
        {
          "output_type": "stream",
          "text": [
            "E: Package 'python-software-properties' has no installation candidate\n",
            "Selecting previously unselected package google-drive-ocamlfuse.\n",
            "(Reading database ... 145674 files and directories currently installed.)\n",
            "Preparing to unpack .../google-drive-ocamlfuse_0.7.15-0ubuntu1~ubuntu18.04.1_amd64.deb ...\n",
            "Unpacking google-drive-ocamlfuse (0.7.15-0ubuntu1~ubuntu18.04.1) ...\n",
            "Setting up google-drive-ocamlfuse (0.7.15-0ubuntu1~ubuntu18.04.1) ...\n",
            "Processing triggers for man-db (2.8.3-2ubuntu0.1) ...\n",
            "Please, open the following URL in a web browser: https://accounts.google.com/o/oauth2/auth?client_id=32555940559.apps.googleusercontent.com&redirect_uri=urn%3Aietf%3Awg%3Aoauth%3A2.0%3Aoob&scope=https%3A%2F%2Fwww.googleapis.com%2Fauth%2Fdrive&response_type=code&access_type=offline&approval_prompt=force\n",
            "··········\n",
            "Please, open the following URL in a web browser: https://accounts.google.com/o/oauth2/auth?client_id=32555940559.apps.googleusercontent.com&redirect_uri=urn%3Aietf%3Awg%3Aoauth%3A2.0%3Aoob&scope=https%3A%2F%2Fwww.googleapis.com%2Fauth%2Fdrive&response_type=code&access_type=offline&approval_prompt=force\n",
            "Please enter the verification code: Access token retrieved correctly.\n"
          ],
          "name": "stdout"
        }
      ]
    },
    {
      "cell_type": "code",
      "metadata": {
        "id": "vbyvecqLJP0Q",
        "colab_type": "code",
        "colab": {
          "base_uri": "https://localhost:8080/",
          "height": 54
        },
        "outputId": "f36e3112-bb27-48f9-bdcb-b7d390af5b9e"
      },
      "source": [
        "#tạo thư mục ảo tên \"drive0\" trên GG colab\n",
        "!mkdir -p drive0\n",
        "!google-drive-ocamlfuse drive"
      ],
      "execution_count": 7,
      "outputs": [
        {
          "output_type": "stream",
          "text": [
            "fuse: mountpoint is not empty\n",
            "fuse: if you are sure this is safe, use the 'nonempty' mount option\n"
          ],
          "name": "stdout"
        }
      ]
    },
    {
      "cell_type": "code",
      "metadata": {
        "id": "f2ACXZ5gJTS0",
        "colab_type": "code",
        "colab": {
          "base_uri": "https://localhost:8080/",
          "height": 608
        },
        "outputId": "710008f7-a485-4e8d-b246-d60f835d2fc8"
      },
      "source": [
        "# Device Kiểm tra thông số\n",
        "import tensorflow as tf\n",
        "from tensorflow.python.client import device_lib\n",
        "print('Current Device: ', tf.test.gpu_device_name() + '\\n')\n",
        "device_lib.list_local_devices()"
      ],
      "execution_count": 3,
      "outputs": [
        {
          "output_type": "display_data",
          "data": {
            "text/html": [
              "<p style=\"color: red;\">\n",
              "The default version of TensorFlow in Colab will soon switch to TensorFlow 2.x.<br>\n",
              "We recommend you <a href=\"https://www.tensorflow.org/guide/migrate\" target=\"_blank\">upgrade</a> now \n",
              "or ensure your notebook will continue to use TensorFlow 1.x via the <code>%tensorflow_version 1.x</code> magic:\n",
              "<a href=\"https://colab.research.google.com/notebooks/tensorflow_version.ipynb\" target=\"_blank\">more info</a>.</p>\n"
            ],
            "text/plain": [
              "<IPython.core.display.HTML object>"
            ]
          },
          "metadata": {
            "tags": []
          }
        },
        {
          "output_type": "stream",
          "text": [
            "Current Device:  /device:GPU:0\n",
            "\n"
          ],
          "name": "stdout"
        },
        {
          "output_type": "execute_result",
          "data": {
            "text/plain": [
              "[name: \"/device:CPU:0\"\n",
              " device_type: \"CPU\"\n",
              " memory_limit: 268435456\n",
              " locality {\n",
              " }\n",
              " incarnation: 16884516841898861148, name: \"/device:XLA_CPU:0\"\n",
              " device_type: \"XLA_CPU\"\n",
              " memory_limit: 17179869184\n",
              " locality {\n",
              " }\n",
              " incarnation: 6816074787139539230\n",
              " physical_device_desc: \"device: XLA_CPU device\", name: \"/device:XLA_GPU:0\"\n",
              " device_type: \"XLA_GPU\"\n",
              " memory_limit: 17179869184\n",
              " locality {\n",
              " }\n",
              " incarnation: 3766835733080479501\n",
              " physical_device_desc: \"device: XLA_GPU device\", name: \"/device:GPU:0\"\n",
              " device_type: \"GPU\"\n",
              " memory_limit: 15956161332\n",
              " locality {\n",
              "   bus_id: 1\n",
              "   links {\n",
              "   }\n",
              " }\n",
              " incarnation: 6638057709229971266\n",
              " physical_device_desc: \"device: 0, name: Tesla P100-PCIE-16GB, pci bus id: 0000:00:04.0, compute capability: 6.0\"]"
            ]
          },
          "metadata": {
            "tags": []
          },
          "execution_count": 3
        }
      ]
    },
    {
      "cell_type": "code",
      "metadata": {
        "id": "QJ0OKW-TJkLF",
        "colab_type": "code",
        "colab": {
          "base_uri": "https://localhost:8080/",
          "height": 860
        },
        "outputId": "cacb25d9-cf60-4078-9636-5e45d499cd0d"
      },
      "source": [
        "# RAM: \n",
        "!cat /proc/meminfo"
      ],
      "execution_count": 4,
      "outputs": [
        {
          "output_type": "stream",
          "text": [
            "MemTotal:       13335188 kB\n",
            "MemFree:         9966420 kB\n",
            "MemAvailable:   12231028 kB\n",
            "Buffers:           85016 kB\n",
            "Cached:          2272288 kB\n",
            "SwapCached:            0 kB\n",
            "Active:           904632 kB\n",
            "Inactive:        2037676 kB\n",
            "Active(anon):     500804 kB\n",
            "Inactive(anon):     8516 kB\n",
            "Active(file):     403828 kB\n",
            "Inactive(file):  2029160 kB\n",
            "Unevictable:           0 kB\n",
            "Mlocked:               0 kB\n",
            "SwapTotal:             0 kB\n",
            "SwapFree:              0 kB\n",
            "Dirty:               264 kB\n",
            "Writeback:             0 kB\n",
            "AnonPages:        585040 kB\n",
            "Mapped:           467672 kB\n",
            "Shmem:              9088 kB\n",
            "Slab:             185028 kB\n",
            "SReclaimable:     144592 kB\n",
            "SUnreclaim:        40436 kB\n",
            "KernelStack:        3844 kB\n",
            "PageTables:         7080 kB\n",
            "NFS_Unstable:          0 kB\n",
            "Bounce:                0 kB\n",
            "WritebackTmp:          0 kB\n",
            "CommitLimit:     6667592 kB\n",
            "Committed_AS:    3135572 kB\n",
            "VmallocTotal:   34359738367 kB\n",
            "VmallocUsed:           0 kB\n",
            "VmallocChunk:          0 kB\n",
            "AnonHugePages:         0 kB\n",
            "ShmemHugePages:        0 kB\n",
            "ShmemPmdMapped:        0 kB\n",
            "HugePages_Total:       0\n",
            "HugePages_Free:        0\n",
            "HugePages_Rsvd:        0\n",
            "HugePages_Surp:        0\n",
            "Hugepagesize:       2048 kB\n",
            "DirectMap4k:      192500 kB\n",
            "DirectMap2M:     6098944 kB\n",
            "DirectMap1G:     9437184 kB\n"
          ],
          "name": "stdout"
        }
      ]
    },
    {
      "cell_type": "code",
      "metadata": {
        "id": "gjFVqQp_JnbV",
        "colab_type": "code",
        "colab": {
          "base_uri": "https://localhost:8080/",
          "height": 1000
        },
        "outputId": "0f91f5c3-936d-452a-bdf8-ac3261573344"
      },
      "source": [
        "# CPU: \n",
        "!cat /proc/cpuinfo"
      ],
      "execution_count": 5,
      "outputs": [
        {
          "output_type": "stream",
          "text": [
            "processor\t: 0\n",
            "vendor_id\t: GenuineIntel\n",
            "cpu family\t: 6\n",
            "model\t\t: 79\n",
            "model name\t: Intel(R) Xeon(R) CPU @ 2.20GHz\n",
            "stepping\t: 0\n",
            "microcode\t: 0x1\n",
            "cpu MHz\t\t: 2200.000\n",
            "cache size\t: 56320 KB\n",
            "physical id\t: 0\n",
            "siblings\t: 2\n",
            "core id\t\t: 0\n",
            "cpu cores\t: 1\n",
            "apicid\t\t: 0\n",
            "initial apicid\t: 0\n",
            "fpu\t\t: yes\n",
            "fpu_exception\t: yes\n",
            "cpuid level\t: 13\n",
            "wp\t\t: yes\n",
            "flags\t\t: fpu vme de pse tsc msr pae mce cx8 apic sep mtrr pge mca cmov pat pse36 clflush mmx fxsr sse sse2 ss ht syscall nx pdpe1gb rdtscp lm constant_tsc rep_good nopl xtopology nonstop_tsc cpuid tsc_known_freq pni pclmulqdq ssse3 fma cx16 pcid sse4_1 sse4_2 x2apic movbe popcnt aes xsave avx f16c rdrand hypervisor lahf_lm abm 3dnowprefetch invpcid_single ssbd ibrs ibpb stibp fsgsbase tsc_adjust bmi1 hle avx2 smep bmi2 erms invpcid rtm rdseed adx smap xsaveopt arat md_clear arch_capabilities\n",
            "bugs\t\t: cpu_meltdown spectre_v1 spectre_v2 spec_store_bypass l1tf mds swapgs\n",
            "bogomips\t: 4400.00\n",
            "clflush size\t: 64\n",
            "cache_alignment\t: 64\n",
            "address sizes\t: 46 bits physical, 48 bits virtual\n",
            "power management:\n",
            "\n",
            "processor\t: 1\n",
            "vendor_id\t: GenuineIntel\n",
            "cpu family\t: 6\n",
            "model\t\t: 79\n",
            "model name\t: Intel(R) Xeon(R) CPU @ 2.20GHz\n",
            "stepping\t: 0\n",
            "microcode\t: 0x1\n",
            "cpu MHz\t\t: 2200.000\n",
            "cache size\t: 56320 KB\n",
            "physical id\t: 0\n",
            "siblings\t: 2\n",
            "core id\t\t: 0\n",
            "cpu cores\t: 1\n",
            "apicid\t\t: 1\n",
            "initial apicid\t: 1\n",
            "fpu\t\t: yes\n",
            "fpu_exception\t: yes\n",
            "cpuid level\t: 13\n",
            "wp\t\t: yes\n",
            "flags\t\t: fpu vme de pse tsc msr pae mce cx8 apic sep mtrr pge mca cmov pat pse36 clflush mmx fxsr sse sse2 ss ht syscall nx pdpe1gb rdtscp lm constant_tsc rep_good nopl xtopology nonstop_tsc cpuid tsc_known_freq pni pclmulqdq ssse3 fma cx16 pcid sse4_1 sse4_2 x2apic movbe popcnt aes xsave avx f16c rdrand hypervisor lahf_lm abm 3dnowprefetch invpcid_single ssbd ibrs ibpb stibp fsgsbase tsc_adjust bmi1 hle avx2 smep bmi2 erms invpcid rtm rdseed adx smap xsaveopt arat md_clear arch_capabilities\n",
            "bugs\t\t: cpu_meltdown spectre_v1 spectre_v2 spec_store_bypass l1tf mds swapgs\n",
            "bogomips\t: 4400.00\n",
            "clflush size\t: 64\n",
            "cache_alignment\t: 64\n",
            "address sizes\t: 46 bits physical, 48 bits virtual\n",
            "power management:\n",
            "\n"
          ],
          "name": "stdout"
        }
      ]
    },
    {
      "cell_type": "code",
      "metadata": {
        "id": "P290VG_sJpaP",
        "colab_type": "code",
        "colab": {
          "base_uri": "https://localhost:8080/",
          "height": 224
        },
        "outputId": "9af82e5b-3f7e-4679-aaae-df95e24b81e4"
      },
      "source": [
        "# Tensorflow version\n",
        "!pip show tensorflow"
      ],
      "execution_count": 6,
      "outputs": [
        {
          "output_type": "stream",
          "text": [
            "Name: tensorflow\n",
            "Version: 1.15.0\n",
            "Summary: TensorFlow is an open source machine learning framework for everyone.\n",
            "Home-page: https://www.tensorflow.org/\n",
            "Author: Google Inc.\n",
            "Author-email: packages@tensorflow.org\n",
            "License: Apache 2.0\n",
            "Location: /usr/local/lib/python3.6/dist-packages\n",
            "Requires: wheel, tensorboard, google-pasta, keras-applications, six, tensorflow-estimator, astor, wrapt, protobuf, absl-py, gast, termcolor, grpcio, numpy, keras-preprocessing, opt-einsum\n",
            "Required-by: stable-baselines, magenta, fancyimpute\n"
          ],
          "name": "stdout"
        }
      ]
    },
    {
      "cell_type": "code",
      "metadata": {
        "id": "Q8HP44_AKv99",
        "colab_type": "code",
        "colab": {}
      },
      "source": [
        "#Làm việc với thư mục: ví dụ trong thư mục drive0 có chưa thư mục drive0_demo\n",
        "!ls drive0/drive0_demo #Liệt kê các file trong thư mục drive0_demo\n",
        "\n",
        "import os\n",
        "os.getcwd() #thư mục hiện tại\n",
        "os.chdir(\"drive0\") #truy cập đến thư mục drive0 \n",
        "os.chdir(\"..\") #quay về thư mục trước đó"
      ],
      "execution_count": 0,
      "outputs": []
    },
    {
      "cell_type": "code",
      "metadata": {
        "id": "7133MDmIL0YA",
        "colab_type": "code",
        "colab": {}
      },
      "source": [
        "#Cài đặt thư viện cần thiết: sử dụng 2 cú pháp \"!pip install\" và \"!apt-get\"\n",
        "!pip install -q keras #keras\n",
        "!apt-get -qq install -y libsm6 libxext6 && pip install -q -U opencv-python #OpenCV\n",
        "#import cv2"
      ],
      "execution_count": 0,
      "outputs": []
    },
    {
      "cell_type": "code",
      "metadata": {
        "id": "WBkWteK3Mecp",
        "colab_type": "code",
        "colab": {}
      },
      "source": [
        "#Tải file hay thư mục\n",
        "#tải CSV\n",
        "#!wget https://raw.githubusercontent.com/vincentarelbundock/Rdatasets/master/csv/datasets/Titanic.csv -P drive/app\n",
        "#tải thư mục git\n",
        "#!os.chdir(\"drive0/drive0_demo\")\n",
        "#!git clone https://github.com/wxs/keras-mnist-tutorial.git"
      ],
      "execution_count": 0,
      "outputs": []
    },
    {
      "cell_type": "markdown",
      "metadata": {
        "id": "k68GSytCNGBL",
        "colab_type": "text"
      },
      "source": [
        "**Chạy file .ipynb hay.py:**\n",
        "Với file .ipynb, ta mở trực tiếp trong GG Drive bằng GG Colab. Rồi chạy chương trình Nếu đã chạy câu lệnh git clone phía trên, ta có thể mở file MNIST in keras.ipynb ra để chạy thử. Ta sẽ thấy tốc độ chạy hơn CPU rất nhiều. Thông thường 1 epoch, batch size 128, mất khoảng 3-4s.\n",
        "\n",
        "Với file .py, ta có thể tải file mnist_cnn.py hoặc upload file của mình lên GG Drive\n",
        "\n",
        "os.getcwd() # Kiem tra thu muc hien tai\n",
        "\n",
        "!python3 drive/app/mnist_cnn.py # Chay file mnist_cnn"
      ]
    },
    {
      "cell_type": "code",
      "metadata": {
        "id": "9By7xDgiIZJM",
        "colab_type": "code",
        "colab": {
          "base_uri": "https://localhost:8080/",
          "height": 36
        },
        "outputId": "4b9188cc-b8f7-420c-d618-e30bde3749b5"
      },
      "source": [
        "#final\n",
        "import cv2 #import các thư viện \n",
        "import os\n",
        "import math\n",
        "import sys\n",
        "import numpy as np\n",
        "import pandas as pd\n",
        "import matplotlib.pyplot as plt\n",
        "from google.colab.patches import cv2_imshow\n",
        "from google.colab import files\n",
        "from sklearn.model_selection import train_test_split\n",
        "from sklearn.linear_model import LogisticRegression\n",
        "from sklearn.model_selection import GridSearchCV\n",
        "from sklearn.metrics import classification_report\n",
        "from sklearn.preprocessing import LabelEncoder\n",
        "from imutils import paths\n",
        "from keras.applications import VGG16\n",
        "from keras.applications import imagenet_utils\n",
        "from keras.preprocessing.image import img_to_array\n",
        "from keras.preprocessing.image import load_img"
      ],
      "execution_count": 8,
      "outputs": [
        {
          "output_type": "stream",
          "text": [
            "Using TensorFlow backend.\n"
          ],
          "name": "stderr"
        }
      ]
    },
    {
      "cell_type": "code",
      "metadata": {
        "id": "aISxn1-WJrBG",
        "colab_type": "code",
        "colab": {
          "base_uri": "https://localhost:8080/",
          "height": 131
        },
        "outputId": "0ee8db6e-35d9-4fbd-f0a8-7c31dd06bc3e"
      },
      "source": [
        "#final\n",
        "from google.colab import drive #kết nối với gg drive\n",
        "drive.mount('/content/drive')"
      ],
      "execution_count": 9,
      "outputs": [
        {
          "output_type": "stream",
          "text": [
            "Go to this URL in a browser: https://accounts.google.com/o/oauth2/auth?client_id=947318989803-6bn6qk8qdgf4n4g3pfee6491hc0brc4i.apps.googleusercontent.com&redirect_uri=urn%3aietf%3awg%3aoauth%3a2.0%3aoob&response_type=code&scope=email%20https%3a%2f%2fwww.googleapis.com%2fauth%2fdocs.test%20https%3a%2f%2fwww.googleapis.com%2fauth%2fdrive%20https%3a%2f%2fwww.googleapis.com%2fauth%2fdrive.photos.readonly%20https%3a%2f%2fwww.googleapis.com%2fauth%2fpeopleapi.readonly\n",
            "\n",
            "Enter your authorization code:\n",
            "··········\n",
            "Mounted at /content/drive\n"
          ],
          "name": "stdout"
        }
      ]
    },
    {
      "cell_type": "code",
      "metadata": {
        "id": "U2_innh3JncX",
        "colab_type": "code",
        "colab": {}
      },
      "source": [
        "cascade = cv2.CascadeClassifier(cv2.data.haarcascades + \"haarcascade_frontalface_default.xml\")"
      ],
      "execution_count": 0,
      "outputs": []
    },
    {
      "cell_type": "code",
      "metadata": {
        "id": "QpL1BZ8NaLH8",
        "colab_type": "code",
        "colab": {}
      },
      "source": [
        "#final\n",
        "def Get_first_face(image_path): #trả về khuôn mặt đầu tiên từ một bức ảnh và số lượng face trong 1 ảnh\n",
        "  img = cv2.imread(image_path)\n",
        "  cascade = cv2.CascadeClassifier(cv2.data.haarcascades + \"haarcascade_frontalface_default.xml\")\n",
        "  faces = cascade.detectMultiScale(img)\n",
        "  print('found', len(faces), 'faces', sep=' ')\n",
        "  if len(faces) == 0: #không tìm thấy face nào trong ảnh\n",
        "    return None, 0\n",
        "\n",
        "  (x, y, w, h) = faces[0] #giả sử detect nhiều face thì lấy face đầu tiên \n",
        "  r = max(w, h) / 2\n",
        "  centerx = x + w / 2\n",
        "  centery = y + h / 2\n",
        "  nx = int(centerx - r)\n",
        "  ny = int(centery - r)\n",
        "  nr = int(r * 2)\n",
        "\n",
        "  faceimg = img[ny:ny+nr, nx:nx+nr]\n",
        "  #faceimg = cv2.resize(faceimg,(50,50))\n",
        "  #faceimg = cv2.cvtColor(faceimg, cv2.COLOR_BGR2GRAY)   #để dành làm ở bước sau\n",
        "  return faceimg, len(faces) #độ dài mảng faces -> số lượng face detect\n"
      ],
      "execution_count": 0,
      "outputs": []
    },
    {
      "cell_type": "code",
      "metadata": {
        "id": "hquiuH4sPE4C",
        "colab_type": "code",
        "colab": {}
      },
      "source": [
        "def Resize_image(faceimg): #resize ảnh (face) về kích thước 50x50 pixels, chuyển về màu xám\n",
        "  faceimg=cv2.resize(faceimg, (50,50))\n",
        "  faceimg=cv2.cvtColor(faceimg, cv2.COLOR_BGR2GRAY)\n",
        "  return faceimg\n"
      ],
      "execution_count": 0,
      "outputs": []
    },
    {
      "cell_type": "code",
      "metadata": {
        "id": "ZuI88lotP_oN",
        "colab_type": "code",
        "colab": {
          "base_uri": "https://localhost:8080/",
          "height": 1000
        },
        "outputId": "619cf19e-dec3-4e7c-e990-25927739d8ea"
      },
      "source": [
        "#Tạo 2 pandas series X và Y từ thư mục chứa ảnh train\n",
        "#Duyệt từng file trong thư mục, crop ảnh, resize ảnh crop về kích thước 50x50 và đổi sang ảnh xám. Sau đó flatten, và đưa vào X series. \n",
        "#Nếu ảnh không crop được cái face nào thì cho mặc định một face toàn màu đen. \n",
        "#Series Y được xác định dựa vào tên file ảnh. Tên bắt đầu bằng chữ 'pos' là có đeo khẩu trang, 'neg' là không đeo khẩu trang.\n",
        "\n",
        "i = 1; #biến đếm i để chặn số lượng ảnh duyệt\n",
        "#folder = '/mydrive/My Drive/Teaching/2019.hk2.cs114.mask.dataset/train'\n",
        "work_folder = '/content/drive/My Drive/train'\n",
        "\n",
        "all_files = os.listdir(work_folder)\n",
        "\n",
        "#count = 1 -> i\n",
        "face_amount = 0\n",
        "dectect = 0\n",
        "faces_in_image = 0\n",
        "\n",
        "X = pd.DataFrame(columns=range(2500)) #50x50=2500\n",
        "Y = pd.DataFrame(columns=['label']) #gán nhãn dựa vào tên bắt đầu của ảnh\n",
        "\n",
        "for image in os.listdir(work_folder):\n",
        "  print('====  process image', image, ':', i, 'out of', len(all_files), sep=' ')\n",
        "  faceimg,faces_in_image = Get_first_face(work_folder + \"/\" + image)\n",
        "  if faceimg is not None:\n",
        "    #new_img = cv2.cvtColor(cv2.resize(faceimg,(50,50)), cv2.COLOR_BGR2GRAY)\n",
        "    new_img=Resize_image(faceimg)\n",
        "\n",
        "    flat = new_img.flatten()\n",
        "    t = pd.DataFrame([flat])\n",
        "    dectect += 1\n",
        "    #print(t)\n",
        "\n",
        "  else:\n",
        "    print('Cant find face')\n",
        "    t = pd.DataFrame([[0]*2500], columns=range(2500)) #màu đen\n",
        "\n",
        "  X=X.append(t, ignore_index=True)\n",
        "\n",
        "  Y=Y.append({'label':image[0:3]},ignore_index=True) #nhãn là pos hoặc neg\n",
        "\n",
        "  i = i + 1\n",
        "  \"\"\"if i == 15: #chỉ duyệt qua 14 ảnh\n",
        "    break;\"\"\"\n",
        "print(X)\n",
        "print(Y)"
      ],
      "execution_count": 12,
      "outputs": [
        {
          "output_type": "stream",
          "text": [
            "====  process image neg.18520245-1.jpg : 1 out of 218\n",
            "found 3 faces\n",
            "====  process image pos.18520285-2.jpg : 2 out of 218\n",
            "found 2 faces\n",
            "====  process image neg.18520339-11.jpg : 3 out of 218\n",
            "found 6 faces\n",
            "====  process image pos.18520590-2.jpg : 4 out of 218\n",
            "found 2 faces\n",
            "====  process image pos.17520374-8.jpg : 5 out of 218\n",
            "found 9 faces\n",
            "====  process image neg.16521206-19.jpg : 6 out of 218\n",
            "found 1 faces\n",
            "====  process image neg.18520245-10.jpg : 7 out of 218\n",
            "found 2 faces\n",
            "====  process image neg.18520285-12.jpg : 8 out of 218\n",
            "found 1 faces\n",
            "====  process image neg.18520245-8.jpg : 9 out of 218\n",
            "found 2 faces\n",
            "====  process image pos.18520184-9.jpg : 10 out of 218\n",
            "found 8 faces\n",
            "====  process image neg.18520590-7.jpg : 11 out of 218\n",
            "found 1 faces\n",
            "====  process image neg.18520339-10.jpg : 12 out of 218\n",
            "found 4 faces\n",
            "====  process image pos.18520184-4.jpg : 13 out of 218\n",
            "found 0 faces\n",
            "Cant find face\n",
            "====  process image pos.18520184-5.jpg : 14 out of 218\n",
            "found 0 faces\n",
            "Cant find face\n",
            "====  process image neg.17520374-2.jpg : 15 out of 218\n",
            "found 5 faces\n",
            "====  process image pos.18520339-10.jpg : 16 out of 218\n",
            "found 3 faces\n",
            "====  process image pos.18520285-3.jpg : 17 out of 218\n",
            "found 0 faces\n",
            "Cant find face\n",
            "====  process image pos.18520590-6.jpg : 18 out of 218\n",
            "found 1 faces\n",
            "====  process image neg.16521206-22.jpg : 19 out of 218\n",
            "found 1 faces\n",
            "====  process image pos.18520245-1.jpg : 20 out of 218\n",
            "found 3 faces\n",
            "====  process image pos.17520374-4.jpg : 21 out of 218\n",
            "found 7 faces\n",
            "====  process image neg.16521206-2.jpg : 22 out of 218\n",
            "found 1 faces\n",
            "====  process image pos.18520339-14.jpg : 23 out of 218\n",
            "found 3 faces\n",
            "====  process image neg.18520245-9.jpg : 24 out of 218\n",
            "found 2 faces\n",
            "====  process image neg.18520285-15.jpg : 25 out of 218\n",
            "found 1 faces\n",
            "====  process image neg.18520184-9.jpg : 26 out of 218\n",
            "found 1 faces\n",
            "====  process image pos.18520285-7.jpg : 27 out of 218\n",
            "found 1 faces\n",
            "====  process image pos.18520590-14.jpg : 28 out of 218\n",
            "found 2 faces\n",
            "====  process image neg.18520184-5.jpg : 29 out of 218\n",
            "found 6 faces\n",
            "====  process image pos.16521206-14.jpg : 30 out of 218\n",
            "found 1 faces\n",
            "====  process image neg.18520184-6.jpg : 31 out of 218\n",
            "found 2 faces\n",
            "====  process image pos.18520184-3.jpg : 32 out of 218\n",
            "found 2 faces\n",
            "====  process image neg.16521206-20.jpg : 33 out of 218\n",
            "found 7 faces\n",
            "====  process image neg.18520184-1.jpg : 34 out of 218\n",
            "found 3 faces\n",
            "====  process image pos.16521206-16.jpg : 35 out of 218\n",
            "found 1 faces\n",
            "====  process image neg.18520339-4.jpg : 36 out of 218\n",
            "found 5 faces\n",
            "====  process image neg.18520590-14.jpg : 37 out of 218\n",
            "found 2 faces\n",
            "====  process image pos.16520418-11.jpg : 38 out of 218\n",
            "found 0 faces\n",
            "Cant find face\n",
            "====  process image neg.18520339-6.jpg : 39 out of 218\n",
            "found 5 faces\n",
            "====  process image pos.18520339-9.jpg : 40 out of 218\n",
            "found 3 faces\n",
            "====  process image pos.18520339-12.jpg : 41 out of 218\n",
            "found 4 faces\n",
            "====  process image pos.18520245-2.jpg : 42 out of 218\n",
            "found 1 faces\n",
            "====  process image neg.17520374-4.jpg : 43 out of 218\n",
            "found 12 faces\n",
            "====  process image neg.18520245-5.jpg : 44 out of 218\n",
            "found 5 faces\n",
            "====  process image pos.18520339-13.jpg : 45 out of 218\n",
            "found 3 faces\n",
            "====  process image neg.18520285-3.jpg : 46 out of 218\n",
            "found 1 faces\n",
            "====  process image pos.18520590-1.jpg : 47 out of 218\n",
            "found 4 faces\n",
            "====  process image pos.18520285-1.jpg : 48 out of 218\n",
            "found 1 faces\n",
            "====  process image pos.18520285-8.jpg : 49 out of 218\n",
            "found 2 faces\n",
            "====  process image neg.18520590-11.jpg : 50 out of 218\n",
            "found 2 faces\n",
            "====  process image pos.16521206-15.jpg : 51 out of 218\n",
            "found 1 faces\n",
            "====  process image pos.18520245-8.jpg : 52 out of 218\n",
            "found 4 faces\n",
            "====  process image pos.18520184-1.jpg : 53 out of 218\n",
            "found 0 faces\n",
            "Cant find face\n",
            "====  process image neg.18520285-13.jpg : 54 out of 218\n",
            "found 2 faces\n",
            "====  process image pos.16520418-15.jpg : 55 out of 218\n",
            "found 1 faces\n",
            "====  process image pos.18520590-5.jpg : 56 out of 218\n",
            "found 3 faces\n",
            "====  process image neg.18520285-7.jpg : 57 out of 218\n",
            "found 1 faces\n",
            "====  process image pos.18520285-15.jpg : 58 out of 218\n",
            "found 2 faces\n",
            "====  process image neg.18520590-8.jpg : 59 out of 218\n",
            "found 1 faces\n",
            "====  process image pos.18520339-8.jpg : 60 out of 218\n",
            "found 3 faces\n",
            "====  process image neg.18520285-4.jpg : 61 out of 218\n",
            "found 2 faces\n",
            "====  process image pos.18520339-7.jpg : 62 out of 218\n",
            "found 3 faces\n",
            "====  process image neg.18520184-13.jpg : 63 out of 218\n",
            "found 2 faces\n",
            "====  process image pos.18520285-13.jpg : 64 out of 218\n",
            "found 1 faces\n",
            "====  process image neg.18520590-9.jpg : 65 out of 218\n",
            "found 4 faces\n",
            "====  process image pos.17520374-6.jpg : 66 out of 218\n",
            "found 6 faces\n",
            "====  process image neg.18520245-3.jpg : 67 out of 218\n",
            "found 2 faces\n",
            "====  process image pos.16520124-11.jpg : 68 out of 218\n",
            "found 8 faces\n",
            "====  process image pos.18520184-2.jpg : 69 out of 218\n",
            "found 2 faces\n",
            "====  process image neg.18520184-3.jpg : 70 out of 218\n",
            "found 2 faces\n",
            "====  process image pos.18520285-6.jpg : 71 out of 218\n",
            "found 1 faces\n",
            "====  process image pos.17520374-2.jpg : 72 out of 218\n",
            "found 2 faces\n",
            "====  process image neg.18520339-5.jpg : 73 out of 218\n",
            "found 5 faces\n",
            "====  process image neg.18520339-13.jpg : 74 out of 218\n",
            "found 3 faces\n",
            "====  process image pos.17520374-7.jpg : 75 out of 218\n",
            "found 4 faces\n",
            "====  process image pos.18520245-7.jpg : 76 out of 218\n",
            "found 1 faces\n",
            "====  process image neg.17520374-6.jpg : 77 out of 218\n",
            "found 1 faces\n",
            "====  process image pos.16520124-2.jpg : 78 out of 218\n",
            "found 2 faces\n",
            "====  process image pos.18520285-10.jpg : 79 out of 218\n",
            "found 1 faces\n",
            "====  process image pos.16520418-12.jpg : 80 out of 218\n",
            "found 0 faces\n",
            "Cant find face\n",
            "====  process image neg.18520339-9.jpg : 81 out of 218\n",
            "found 4 faces\n",
            "====  process image neg.16521206-15.jpg : 82 out of 218\n",
            "found 1 faces\n",
            "====  process image pos.18520339-11.jpg : 83 out of 218\n",
            "found 3 faces\n",
            "====  process image neg.18520184-14.jpg : 84 out of 218\n",
            "found 1 faces\n",
            "====  process image neg.17520374-3.jpg : 85 out of 218\n",
            "found 19 faces\n",
            "====  process image pos.16521206-1.jpg : 86 out of 218\n",
            "found 3 faces\n",
            "====  process image pos.17520374-5.jpg : 87 out of 218\n",
            "found 10 faces\n",
            "====  process image neg.16521206-21.jpg : 88 out of 218\n",
            "found 1 faces\n",
            "====  process image neg.17520374-5.jpg : 89 out of 218\n",
            "found 15 faces\n",
            "====  process image pos.16520418-2.jpg : 90 out of 218\n",
            "found 39 faces\n",
            "====  process image neg.18520285-8.jpg : 91 out of 218\n",
            "found 3 faces\n",
            "====  process image pos.18520245-3.jpg : 92 out of 218\n",
            "found 0 faces\n",
            "Cant find face\n",
            "====  process image neg.18520285-1.jpg : 93 out of 218\n",
            "found 2 faces\n",
            "====  process image neg.17520374-7.jpg : 94 out of 218\n",
            "found 5 faces\n",
            "====  process image neg.18520245-2.jpg : 95 out of 218\n",
            "found 1 faces\n",
            "====  process image pos.18520590-4.jpg : 96 out of 218\n",
            "found 2 faces\n",
            "====  process image neg.18520339-7.jpg : 97 out of 218\n",
            "found 3 faces\n",
            "====  process image pos.18520339-2.jpg : 98 out of 218\n",
            "found 4 faces\n",
            "====  process image pos.18520285-12.jpg : 99 out of 218\n",
            "found 2 faces\n",
            "====  process image pos.18520245-6.jpg : 100 out of 218\n",
            "found 1 faces\n",
            "====  process image pos.16521206-3.jpg : 101 out of 218\n",
            "found 1 faces\n",
            "====  process image pos.16520124-10.jpg : 102 out of 218\n",
            "found 5 faces\n",
            "====  process image neg.18520285-14.jpg : 103 out of 218\n",
            "found 1 faces\n",
            "====  process image pos.18520245-9.jpg : 104 out of 218\n",
            "found 3 faces\n",
            "====  process image pos.18520285-5.jpg : 105 out of 218\n",
            "found 1 faces\n",
            "====  process image pos.18520184-16.jpg : 106 out of 218\n",
            "found 1 faces\n",
            "====  process image pos.18520184-13.jpg : 107 out of 218\n",
            "found 0 faces\n",
            "Cant find face\n",
            "====  process image pos.16520418-9.jpg : 108 out of 218\n",
            "found 2 faces\n",
            "====  process image pos.17520374-1.jpg : 109 out of 218\n",
            "found 11 faces\n",
            "====  process image neg.18520590-15.jpg : 110 out of 218\n",
            "found 6 faces\n",
            "====  process image neg.18520339-15.jpg : 111 out of 218\n",
            "found 6 faces\n",
            "====  process image neg.18520184-12.jpg : 112 out of 218\n",
            "found 4 faces\n",
            "====  process image pos.18520590-3.jpg : 113 out of 218\n",
            "found 2 faces\n",
            "====  process image neg.16520124-1.jpg : 114 out of 218\n",
            "found 2 faces\n",
            "====  process image neg.18520339-8.jpg : 115 out of 218\n",
            "found 4 faces\n",
            "====  process image neg.16521206-1.jpg : 116 out of 218\n",
            "found 3 faces\n",
            "====  process image pos.18520339-4.jpg : 117 out of 218\n",
            "found 3 faces\n",
            "====  process image neg.18520285-5.jpg : 118 out of 218\n",
            "found 1 faces\n",
            "====  process image neg.18520184-8.jpg : 119 out of 218\n",
            "found 2 faces\n",
            "====  process image pos.16520418-14.jpg : 120 out of 218\n",
            "found 0 faces\n",
            "Cant find face\n",
            "====  process image pos.18520245-10.jpg : 121 out of 218\n",
            "found 1 faces\n",
            "====  process image pos.18520285-4.jpg : 122 out of 218\n",
            "found 1 faces\n",
            "====  process image pos.18520339-3.jpg : 123 out of 218\n",
            "found 4 faces\n",
            "====  process image neg.18520339-14.jpg : 124 out of 218\n",
            "found 6 faces\n",
            "====  process image pos.16520124-1.jpg : 125 out of 218\n",
            "found 5 faces\n",
            "====  process image pos.18520285-11.jpg : 126 out of 218\n",
            "found 1 faces\n",
            "====  process image pos.17520374-3.jpg : 127 out of 218\n",
            "found 14 faces\n",
            "====  process image pos.18520184-8.jpg : 128 out of 218\n",
            "found 1 faces\n",
            "====  process image neg.18520245-6.jpg : 129 out of 218\n",
            "found 1 faces\n",
            "====  process image neg.16521206-23.jpg : 130 out of 218\n",
            "found 7 faces\n",
            "====  process image neg.18520339-12.jpg : 131 out of 218\n",
            "found 5 faces\n",
            "====  process image pos.16520418-4.jpg : 132 out of 218\n",
            "found 20 faces\n",
            "====  process image neg.18520590-13.jpg : 133 out of 218\n",
            "found 5 faces\n",
            "====  process image pos.17520374-15.jpg : 134 out of 218\n",
            "found 1 faces\n",
            "====  process image pos.18520590-9.jpg : 135 out of 218\n",
            "found 3 faces\n",
            "====  process image neg.17520374-10.jpg : 136 out of 218\n",
            "found 5 faces\n",
            "====  process image neg.17520374-12.jpg : 137 out of 218\n",
            "found 3 faces\n",
            "====  process image neg.16520418-11.jpg : 138 out of 218\n",
            "found 27 faces\n",
            "====  process image pos.16521206-5.jpg : 139 out of 218\n",
            "found 20 faces\n",
            "====  process image neg.16520124-9.jpg : 140 out of 218\n",
            "found 5 faces\n",
            "====  process image neg.18520590-6.jpg : 141 out of 218\n",
            "found 2 faces\n",
            "====  process image neg.17520374-9.jpg : 142 out of 218\n",
            "found 4 faces\n",
            "====  process image neg.16521206-8.jpg : 143 out of 218\n",
            "found 2 faces\n",
            "====  process image neg.16520418-14.jpg : 144 out of 218\n",
            "found 4 faces\n",
            "====  process image neg.17520374-11.jpg : 145 out of 218\n",
            "found 6 faces\n",
            "====  process image pos.16520418-5.jpg : 146 out of 218\n",
            "found 29 faces\n",
            "====  process image pos.18520590-10.jpg : 147 out of 218\n",
            "found 1 faces\n",
            "====  process image neg.16520418-10.jpg : 148 out of 218\n",
            "found 11 faces\n",
            "====  process image pos.17520374-10.jpg : 149 out of 218\n",
            "found 1 faces\n",
            "====  process image pos.16520124-7.jpg : 150 out of 218\n",
            "found 4 faces\n",
            "====  process image pos.18520590-13.jpg : 151 out of 218\n",
            "found 3 faces\n",
            "====  process image neg.18520590-4.jpg : 152 out of 218\n",
            "found 4 faces\n",
            "====  process image neg.16521206-5.jpg : 153 out of 218\n",
            "found 37 faces\n",
            "====  process image pos.17520374-11.jpg : 154 out of 218\n",
            "found 6 faces\n",
            "====  process image pos.17520374-13.jpg : 155 out of 218\n",
            "found 3 faces\n",
            "====  process image neg.16520124-14.jpg : 156 out of 218\n",
            "found 1 faces\n",
            "====  process image neg.16520418-15.jpg : 157 out of 218\n",
            "found 3 faces\n",
            "====  process image pos.17520374-14.jpg : 158 out of 218\n",
            "found 3 faces\n",
            "====  process image pos.16520418-3.jpg : 159 out of 218\n",
            "found 40 faces\n",
            "====  process image pos.16520124-16.jpg : 160 out of 218\n",
            "found 3 faces\n",
            "====  process image neg.16520124-13.jpg : 161 out of 218\n",
            "found 1 faces\n",
            "====  process image pos.16520124-12.jpg : 162 out of 218\n",
            "found 12 faces\n",
            "====  process image pos.16520418-7.jpg : 163 out of 218\n",
            "found 2 faces\n",
            "====  process image pos.16520124-17.jpg : 164 out of 218\n",
            "found 12 faces\n",
            "====  process image pos.16520418-1.jpg : 165 out of 218\n",
            "found 2 faces\n",
            "====  process image pos.16520124-4.jpg : 166 out of 218\n",
            "found 2 faces\n",
            "====  process image neg.16520124-6.jpg : 167 out of 218\n",
            "found 4 faces\n",
            "====  process image neg.16521206-7.jpg : 168 out of 218\n",
            "found 1 faces\n",
            "====  process image neg.16520418-7.jpg : 169 out of 218\n",
            "found 50 faces\n",
            "====  process image neg.18520184-10.jpg : 170 out of 218\n",
            "found 4 faces\n",
            "====  process image neg.18520590-3.jpg : 171 out of 218\n",
            "found 2 faces\n",
            "====  process image neg.16520124-8.jpg : 172 out of 218\n",
            "found 7 faces\n",
            "====  process image pos.16521206-10.jpg : 173 out of 218\n",
            "found 18 faces\n",
            "====  process image pos.16520124-8.jpg : 174 out of 218\n",
            "found 1 faces\n",
            "====  process image neg.16521206-11.jpg : 175 out of 218\n",
            "found 25 faces\n",
            "====  process image neg.16521206-14.jpg : 176 out of 218\n",
            "found 3 faces\n",
            "====  process image pos.16520124-3.jpg : 177 out of 218\n",
            "found 3 faces\n",
            "====  process image neg.16520418-13.jpg : 178 out of 218\n",
            "found 3 faces\n",
            "====  process image neg.16520418-5.jpg : 179 out of 218\n",
            "found 4 faces\n",
            "====  process image neg.17520374-13.jpg : 180 out of 218\n",
            "found 5 faces\n",
            "====  process image pos.18520184-11.jpg : 181 out of 218\n",
            "found 2 faces\n",
            "====  process image neg.16520124-7.jpg : 182 out of 218\n",
            "found 4 faces\n",
            "====  process image neg.16520124-2.jpg : 183 out of 218\n",
            "found 2 faces\n",
            "====  process image pos.16520124-21.jpg : 184 out of 218\n",
            "found 5 faces\n",
            "====  process image neg.16520124-15.jpg : 185 out of 218\n",
            "found 4 faces\n",
            "====  process image pos.16521206-11.jpg : 186 out of 218\n",
            "found 2 faces\n",
            "====  process image neg.18520590-2.jpg : 187 out of 218\n",
            "found 10 faces\n",
            "====  process image pos.18520590-11.jpg : 188 out of 218\n",
            "found 5 faces\n",
            "====  process image pos.16520124-13.jpg : 189 out of 218\n",
            "found 3 faces\n",
            "====  process image neg.17520374-8.jpg : 190 out of 218\n",
            "found 1 faces\n",
            "====  process image pos.16520124-9.jpg : 191 out of 218\n",
            "found 4 faces\n",
            "====  process image neg.18520590-1.jpg : 192 out of 218\n",
            "found 4 faces\n",
            "====  process image neg.18520590-5.jpg : 193 out of 218\n",
            "found 4 faces\n",
            "====  process image neg.18520184-11.jpg : 194 out of 218\n",
            "found 2 faces\n",
            "====  process image pos.16521206-9.jpg : 195 out of 218\n",
            "found 19 faces\n",
            "====  process image pos.18520590-8.jpg : 196 out of 218\n",
            "found 3 faces\n",
            "====  process image pos.16520124-14.jpg : 197 out of 218\n",
            "found 7 faces\n",
            "====  process image neg.16520418-9.jpg : 198 out of 218\n",
            "found 36 faces\n",
            "====  process image pos.18520184-10.jpg : 199 out of 218\n",
            "found 7 faces\n",
            "====  process image pos.16520124-20.jpg : 200 out of 218\n",
            "found 4 faces\n",
            "====  process image neg.16520124-5.jpg : 201 out of 218\n",
            "found 5 faces\n",
            "====  process image neg.17520374-14.jpg : 202 out of 218\n",
            "found 1 faces\n",
            "====  process image neg.18520590-12.jpg : 203 out of 218\n",
            "found 1 faces\n",
            "====  process image neg.16521206-9.jpg : 204 out of 218\n",
            "found 32 faces\n",
            "====  process image neg.16521206-16.jpg : 205 out of 218\n",
            "found 2 faces\n",
            "====  process image neg.16520124-11.jpg : 206 out of 218\n",
            "found 1 faces\n",
            "====  process image pos.18520184-12.jpg : 207 out of 218\n",
            "found 3 faces\n",
            "====  process image pos.16520418-6.jpg : 208 out of 218\n",
            "found 29 faces\n",
            "====  process image neg.16521206-13.jpg : 209 out of 218\n",
            "found 11 faces\n",
            "====  process image pos.16521206-12.jpg : 210 out of 218\n",
            "found 7 faces\n",
            "====  process image neg.16520418-3.jpg : 211 out of 218\n",
            "found 14 faces\n",
            "====  process image neg.16520418-4.jpg : 212 out of 218\n",
            "found 1 faces\n",
            "====  process image neg.16521206-12.jpg : 213 out of 218\n",
            "found 9 faces\n",
            "====  process image pos.17520374-12.jpg : 214 out of 218\n",
            "found 2 faces\n",
            "====  process image neg.17520374-15.jpg : 215 out of 218\n",
            "found 2 faces\n",
            "====  process image neg.16520418-6.jpg : 216 out of 218\n",
            "found 12 faces\n",
            "====  process image neg.16521206-4.jpg : 217 out of 218\n",
            "found 46 faces\n",
            "====  process image pos.16520124-6.jpg : 218 out of 218\n",
            "found 2 faces\n",
            "    0    1    2    3    4    5    6     ... 2493 2494 2495 2496 2497 2498 2499\n",
            "0    108  104   47  234   48  237   70  ...  131  134  134  131  121   76    9\n",
            "1     43   31   24   22   21   22   22  ...   77   77   80   76   76  120  196\n",
            "2    177  177  177  179  180  179  179  ...  173  173  173  173  172  172  172\n",
            "3    188  188  186  187  186  186  175  ...   93   92   90   90   91   90   92\n",
            "4     95  100  102  100  101   13    8  ...  114  119  129  148  147  138  122\n",
            "..   ...  ...  ...  ...  ...  ...  ...  ...  ...  ...  ...  ...  ...  ...  ...\n",
            "213  137  158  151  134  111   89   67  ...  164  157  159  161  149  145  123\n",
            "214  201  191   86   64   53   41   34  ...   51   66   73   85   90   84  176\n",
            "215   39   33   53   65   63   52   47  ...    4    3    3    4   11   10   13\n",
            "216   59   38   32   40   36   39   45  ...   56   51   51   51   52   50   48\n",
            "217  206  208  207  208  206  204  208  ...  208  226  194  188  194  188  173\n",
            "\n",
            "[218 rows x 2500 columns]\n",
            "    label\n",
            "0     neg\n",
            "1     pos\n",
            "2     neg\n",
            "3     pos\n",
            "4     pos\n",
            "..    ...\n",
            "213   pos\n",
            "214   neg\n",
            "215   neg\n",
            "216   neg\n",
            "217   pos\n",
            "\n",
            "[218 rows x 1 columns]\n"
          ],
          "name": "stdout"
        }
      ]
    },
    {
      "cell_type": "code",
      "metadata": {
        "id": "LnKPYt5gdoUs",
        "colab_type": "code",
        "colab": {
          "base_uri": "https://localhost:8080/",
          "height": 262
        },
        "outputId": "1123b8af-29fd-4289-a923-258ba18ab019"
      },
      "source": [
        "Transform_to_bool = LabelEncoder()\n",
        "labels = Transform_to_bool.fit_transform(Y) #chuyển nhãn pos thành 1, neg thành 0 để tiện xử lý\n",
        "labels"
      ],
      "execution_count": 13,
      "outputs": [
        {
          "output_type": "stream",
          "text": [
            "/usr/local/lib/python3.6/dist-packages/sklearn/preprocessing/_label.py:251: DataConversionWarning: A column-vector y was passed when a 1d array was expected. Please change the shape of y to (n_samples, ), for example using ravel().\n",
            "  y = column_or_1d(y, warn=True)\n"
          ],
          "name": "stderr"
        },
        {
          "output_type": "execute_result",
          "data": {
            "text/plain": [
              "array([0, 1, 0, 1, 1, 0, 0, 0, 0, 1, 0, 0, 1, 1, 0, 1, 1, 1, 0, 1, 1, 0,\n",
              "       1, 0, 0, 0, 1, 1, 0, 1, 0, 1, 0, 0, 1, 0, 0, 1, 0, 1, 1, 1, 0, 0,\n",
              "       1, 0, 1, 1, 1, 0, 1, 1, 1, 0, 1, 1, 0, 1, 0, 1, 0, 1, 0, 1, 0, 1,\n",
              "       0, 1, 1, 0, 1, 1, 0, 0, 1, 1, 0, 1, 1, 1, 0, 0, 1, 0, 0, 1, 1, 0,\n",
              "       0, 1, 0, 1, 0, 0, 0, 1, 0, 1, 1, 1, 1, 1, 0, 1, 1, 1, 1, 1, 1, 0,\n",
              "       0, 0, 1, 0, 0, 0, 1, 0, 0, 1, 1, 1, 1, 0, 1, 1, 1, 1, 0, 0, 0, 1,\n",
              "       0, 1, 1, 0, 0, 0, 1, 0, 0, 0, 0, 0, 0, 1, 1, 0, 1, 1, 1, 0, 0, 1,\n",
              "       1, 0, 0, 1, 1, 1, 0, 1, 1, 1, 1, 1, 0, 0, 0, 0, 0, 0, 1, 1, 0, 0,\n",
              "       1, 0, 0, 0, 1, 0, 0, 1, 0, 1, 0, 1, 1, 0, 1, 0, 0, 0, 1, 1, 1, 0,\n",
              "       1, 1, 0, 0, 0, 0, 0, 0, 1, 1, 0, 1, 0, 0, 0, 1, 0, 0, 0, 1])"
            ]
          },
          "metadata": {
            "tags": []
          },
          "execution_count": 13
        }
      ]
    },
    {
      "cell_type": "code",
      "metadata": {
        "id": "UqS8ZTAOesAN",
        "colab_type": "code",
        "colab": {
          "base_uri": "https://localhost:8080/",
          "height": 449
        },
        "outputId": "31d5030b-bf90-4cd6-d2e5-a1c53b1e5d56"
      },
      "source": [
        "#chọn model để học \n",
        "#chọn kiến trúc mạng CNN vgg16\n",
        "#base_model = VGG16(weights = 'imagenet', include_top = False)\n",
        "base_model = VGG16(include_top= False, weights='imagenet' , input_shape = (50,50,3))"
      ],
      "execution_count": 14,
      "outputs": [
        {
          "output_type": "stream",
          "text": [
            "WARNING:tensorflow:From /usr/local/lib/python3.6/dist-packages/keras/backend/tensorflow_backend.py:66: The name tf.get_default_graph is deprecated. Please use tf.compat.v1.get_default_graph instead.\n",
            "\n",
            "WARNING:tensorflow:From /usr/local/lib/python3.6/dist-packages/keras/backend/tensorflow_backend.py:541: The name tf.placeholder is deprecated. Please use tf.compat.v1.placeholder instead.\n",
            "\n",
            "WARNING:tensorflow:From /usr/local/lib/python3.6/dist-packages/keras/backend/tensorflow_backend.py:4432: The name tf.random_uniform is deprecated. Please use tf.random.uniform instead.\n",
            "\n",
            "WARNING:tensorflow:From /usr/local/lib/python3.6/dist-packages/keras/backend/tensorflow_backend.py:4267: The name tf.nn.max_pool is deprecated. Please use tf.nn.max_pool2d instead.\n",
            "\n",
            "Downloading data from https://github.com/fchollet/deep-learning-models/releases/download/v0.1/vgg16_weights_tf_dim_ordering_tf_kernels_notop.h5\n",
            "58892288/58889256 [==============================] - 2s 0us/step\n",
            "WARNING:tensorflow:From /usr/local/lib/python3.6/dist-packages/keras/backend/tensorflow_backend.py:190: The name tf.get_default_session is deprecated. Please use tf.compat.v1.get_default_session instead.\n",
            "\n",
            "WARNING:tensorflow:From /usr/local/lib/python3.6/dist-packages/keras/backend/tensorflow_backend.py:197: The name tf.ConfigProto is deprecated. Please use tf.compat.v1.ConfigProto instead.\n",
            "\n",
            "WARNING:tensorflow:From /usr/local/lib/python3.6/dist-packages/keras/backend/tensorflow_backend.py:203: The name tf.Session is deprecated. Please use tf.compat.v1.Session instead.\n",
            "\n",
            "WARNING:tensorflow:From /usr/local/lib/python3.6/dist-packages/keras/backend/tensorflow_backend.py:207: The name tf.global_variables is deprecated. Please use tf.compat.v1.global_variables instead.\n",
            "\n",
            "WARNING:tensorflow:From /usr/local/lib/python3.6/dist-packages/keras/backend/tensorflow_backend.py:216: The name tf.is_variable_initialized is deprecated. Please use tf.compat.v1.is_variable_initialized instead.\n",
            "\n",
            "WARNING:tensorflow:From /usr/local/lib/python3.6/dist-packages/keras/backend/tensorflow_backend.py:223: The name tf.variables_initializer is deprecated. Please use tf.compat.v1.variables_initializer instead.\n",
            "\n"
          ],
          "name": "stdout"
        }
      ]
    },
    {
      "cell_type": "code",
      "metadata": {
        "id": "xZseTthrl0KW",
        "colab_type": "code",
        "colab": {
          "base_uri": "https://localhost:8080/",
          "height": 879
        },
        "outputId": "e3c16d28-5e05-4d41-ffc9-1acab6317232"
      },
      "source": [
        "base_model.summary()"
      ],
      "execution_count": 15,
      "outputs": [
        {
          "output_type": "stream",
          "text": [
            "Model: \"vgg16\"\n",
            "_________________________________________________________________\n",
            "Layer (type)                 Output Shape              Param #   \n",
            "=================================================================\n",
            "input_1 (InputLayer)         (None, 50, 50, 3)         0         \n",
            "_________________________________________________________________\n",
            "block1_conv1 (Conv2D)        (None, 50, 50, 64)        1792      \n",
            "_________________________________________________________________\n",
            "block1_conv2 (Conv2D)        (None, 50, 50, 64)        36928     \n",
            "_________________________________________________________________\n",
            "block1_pool (MaxPooling2D)   (None, 25, 25, 64)        0         \n",
            "_________________________________________________________________\n",
            "block2_conv1 (Conv2D)        (None, 25, 25, 128)       73856     \n",
            "_________________________________________________________________\n",
            "block2_conv2 (Conv2D)        (None, 25, 25, 128)       147584    \n",
            "_________________________________________________________________\n",
            "block2_pool (MaxPooling2D)   (None, 12, 12, 128)       0         \n",
            "_________________________________________________________________\n",
            "block3_conv1 (Conv2D)        (None, 12, 12, 256)       295168    \n",
            "_________________________________________________________________\n",
            "block3_conv2 (Conv2D)        (None, 12, 12, 256)       590080    \n",
            "_________________________________________________________________\n",
            "block3_conv3 (Conv2D)        (None, 12, 12, 256)       590080    \n",
            "_________________________________________________________________\n",
            "block3_pool (MaxPooling2D)   (None, 6, 6, 256)         0         \n",
            "_________________________________________________________________\n",
            "block4_conv1 (Conv2D)        (None, 6, 6, 512)         1180160   \n",
            "_________________________________________________________________\n",
            "block4_conv2 (Conv2D)        (None, 6, 6, 512)         2359808   \n",
            "_________________________________________________________________\n",
            "block4_conv3 (Conv2D)        (None, 6, 6, 512)         2359808   \n",
            "_________________________________________________________________\n",
            "block4_pool (MaxPooling2D)   (None, 3, 3, 512)         0         \n",
            "_________________________________________________________________\n",
            "block5_conv1 (Conv2D)        (None, 3, 3, 512)         2359808   \n",
            "_________________________________________________________________\n",
            "block5_conv2 (Conv2D)        (None, 3, 3, 512)         2359808   \n",
            "_________________________________________________________________\n",
            "block5_conv3 (Conv2D)        (None, 3, 3, 512)         2359808   \n",
            "_________________________________________________________________\n",
            "block5_pool (MaxPooling2D)   (None, 1, 1, 512)         0         \n",
            "=================================================================\n",
            "Total params: 14,714,688\n",
            "Trainable params: 14,714,688\n",
            "Non-trainable params: 0\n",
            "_________________________________________________________________\n"
          ],
          "name": "stdout"
        }
      ]
    },
    {
      "cell_type": "code",
      "metadata": {
        "id": "9KofLc_G7nHm",
        "colab_type": "code",
        "colab": {}
      },
      "source": [
        "list_image = []"
      ],
      "execution_count": 0,
      "outputs": []
    },
    {
      "cell_type": "code",
      "metadata": {
        "id": "O2GvOQg_eyIj",
        "colab_type": "code",
        "colab": {}
      },
      "source": [
        "#trích xuất các features\n",
        "features = model.predict(list_image)\n",
        "# Chuyển tensor thành vector, convolution layer cuối (512*7*7)\n",
        "features = features.reshape((features.shape[0], 512*7*7))"
      ],
      "execution_count": 0,
      "outputs": []
    },
    {
      "cell_type": "code",
      "metadata": {
        "id": "TGZESg7pfBA-",
        "colab_type": "code",
        "colab": {}
      },
      "source": [
        "#chia tập dữ liệu ban đầu thành training_set và test_set với tỷ lệ 85:15"
      ],
      "execution_count": 0,
      "outputs": []
    },
    {
      "cell_type": "code",
      "metadata": {
        "id": "xL4W0vPzfXuM",
        "colab_type": "code",
        "colab": {}
      },
      "source": [
        "#đánh giá model"
      ],
      "execution_count": 0,
      "outputs": []
    },
    {
      "cell_type": "code",
      "metadata": {
        "id": "NLQU4wXl8aFN",
        "colab_type": "code",
        "colab": {
          "base_uri": "https://localhost:8080/",
          "height": 92
        },
        "outputId": "86bde258-2ce0-4872-9fab-27cc1965b96f"
      },
      "source": [
        "#Choose model and learn\n",
        "from sklearn.svm import SVC\n",
        "\n",
        "model = SVC()\n",
        "model.fit( X,  Y.values.ravel()  )\n",
        "\n",
        "print(model)\n",
        "\n"
      ],
      "execution_count": 16,
      "outputs": [
        {
          "output_type": "stream",
          "text": [
            "SVC(C=1.0, break_ties=False, cache_size=200, class_weight=None, coef0=0.0,\n",
            "    decision_function_shape='ovr', degree=3, gamma='scale', kernel='rbf',\n",
            "    max_iter=-1, probability=False, random_state=None, shrinking=True,\n",
            "    tol=0.001, verbose=False)\n"
          ],
          "name": "stdout"
        }
      ]
    },
    {
      "cell_type": "code",
      "metadata": {
        "id": "H5pgC_o98wAY",
        "colab_type": "code",
        "colab": {
          "base_uri": "https://localhost:8080/",
          "height": 204
        },
        "outputId": "7b3b0c10-19a0-4386-eda8-83df5e2accd2"
      },
      "source": [
        "#dùng pickle để lưu lại model\n",
        "import pickle\n",
        "\n",
        "string = pickle.dumps(model)\n",
        "print(string)\n"
      ],
      "execution_count": 17,
      "outputs": [
        {
          "output_type": "stream",
          "text": [
            "IOPub data rate exceeded.\n",
            "The notebook server will temporarily stop sending output\n",
            "to the client in order to avoid crashing it.\n",
            "To change this limit, set the config variable\n",
            "`--NotebookApp.iopub_data_rate_limit`.\n",
            "\n",
            "Current values:\n",
            "NotebookApp.iopub_data_rate_limit=1000000.0 (bytes/sec)\n",
            "NotebookApp.rate_limit_window=3.0 (secs)\n",
            "\n"
          ],
          "name": "stderr"
        }
      ]
    },
    {
      "cell_type": "code",
      "metadata": {
        "id": "t8qDVaTc-8tR",
        "colab_type": "code",
        "colab": {}
      },
      "source": [
        "def show_metrics(X, Y, string):\n",
        "  import pickle\n",
        "  print(Y.values.ravel())\n",
        "\n",
        "  loadmodel = pickle.loads(string)\n",
        "  pred = loadmodel.predict(X)\n",
        "  print(pred)\n",
        "  from sklearn import metrics\n",
        "  print(\"Acurracy \", metrics.accuracy_score(Y.values.ravel(), pred))\n",
        "  print(\"Precision \", metrics.precision_score(Y.values.ravel(), pred, pos_label='pos'))\n",
        "  print(\"Recall \", metrics.recall_score(Y.values.ravel(), pred, pos_label='pos'))\n",
        "  print(\"F1 \", metrics.f1_score(Y.values.ravel(), pred, pos_label='pos'))\n",
        "  #print(\"Acurracy \", metrics.accuracy_score(Y_test.values.ravel(), pred))"
      ],
      "execution_count": 0,
      "outputs": []
    }
  ]
}
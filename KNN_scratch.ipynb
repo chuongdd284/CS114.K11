{
  "nbformat": 4,
  "nbformat_minor": 0,
  "metadata": {
    "colab": {
      "name": "KNN_scratch.ipynb",
      "provenance": [],
      "collapsed_sections": [],
      "authorship_tag": "ABX9TyPqeB55Y4zTKwSPA7Lf2hl0",
      "include_colab_link": true
    },
    "kernelspec": {
      "name": "python3",
      "display_name": "Python 3"
    }
  },
  "cells": [
    {
      "cell_type": "markdown",
      "metadata": {
        "id": "view-in-github",
        "colab_type": "text"
      },
      "source": [
        "<a href=\"https://colab.research.google.com/github/silverGriffin/CS114.K11/blob/master/KNN_scratch.ipynb\" target=\"_parent\"><img src=\"https://colab.research.google.com/assets/colab-badge.svg\" alt=\"Open In Colab\"/></a>"
      ]
    },
    {
      "cell_type": "code",
      "metadata": {
        "id": "b4DygJbsLIo-",
        "colab_type": "code",
        "colab": {}
      },
      "source": [
        "import random\n",
        "from scipy.spatial import distance\n",
        "def euc(a,b):\n",
        "  return distance.euclidean(a,b)\n",
        "\n",
        "class ScrappyKNN():\n",
        "  def fit(self,X_train,y_train):\n",
        "    self.X_train=X_train\n",
        "    self.y_train=y_train\n",
        "  \n",
        "  def predict(self,X_test):\n",
        "    predictions=[]\n",
        "    for row in X_test:\n",
        "      #label=random.choice(self.y_train)\n",
        "      label = self.closet(row)\n",
        "      predictions.append(label)\n",
        "    return predictions\n",
        "\n",
        "  def closet(self,row):\n",
        "    best_dist = euc(row,self.X_train[0])\n",
        "    best_index=0\n",
        "    for i in range(1,len(self.X_train)):\n",
        "      dist=euc(row,self.X_train[i])\n",
        "      if dist < best_dist:\n",
        "        best_dist=dist\n",
        "        best_index=i\n",
        "    return self.y_train[best_index]\n"
      ],
      "execution_count": 0,
      "outputs": []
    },
    {
      "cell_type": "code",
      "metadata": {
        "id": "ay4zbgLiLWqY",
        "colab_type": "code",
        "colab": {}
      },
      "source": [
        "from sklearn import datasets\n",
        "iris = datasets.load_iris()"
      ],
      "execution_count": 0,
      "outputs": []
    },
    {
      "cell_type": "code",
      "metadata": {
        "id": "2i1Vzj5dYeVv",
        "colab_type": "code",
        "colab": {}
      },
      "source": [
        "X=iris.data\n",
        "y=iris.target"
      ],
      "execution_count": 0,
      "outputs": []
    },
    {
      "cell_type": "code",
      "metadata": {
        "id": "RIiWl_ptYin-",
        "colab_type": "code",
        "colab": {}
      },
      "source": [
        "from sklearn.model_selection import train_test_split\n",
        "X_train,X_test,y_train,y_test=train_test_split(X,y,test_size=0.5)"
      ],
      "execution_count": 0,
      "outputs": []
    },
    {
      "cell_type": "code",
      "metadata": {
        "id": "7tkb_1jjY6jj",
        "colab_type": "code",
        "colab": {}
      },
      "source": [
        "my_classifier=ScrappyKNN()"
      ],
      "execution_count": 0,
      "outputs": []
    },
    {
      "cell_type": "code",
      "metadata": {
        "id": "iE3D-EDkY_Bb",
        "colab_type": "code",
        "colab": {}
      },
      "source": [
        "my_classifier.fit(X_train,y_train)"
      ],
      "execution_count": 0,
      "outputs": []
    },
    {
      "cell_type": "code",
      "metadata": {
        "id": "l2lxCehhZD4F",
        "colab_type": "code",
        "colab": {}
      },
      "source": [
        "predictions=my_classifier.predict(X_test)"
      ],
      "execution_count": 0,
      "outputs": []
    },
    {
      "cell_type": "code",
      "metadata": {
        "id": "N4_iXdC_akpg",
        "colab_type": "code",
        "colab": {
          "base_uri": "https://localhost:8080/",
          "height": 35
        },
        "outputId": "754a8569-a406-4232-db50-d2c96af1e319"
      },
      "source": [
        "from sklearn.metrics import accuracy_score\n",
        "print(accuracy_score(y_test,predictions))"
      ],
      "execution_count": 16,
      "outputs": [
        {
          "output_type": "stream",
          "text": [
            "1.0\n"
          ],
          "name": "stdout"
        }
      ]
    }
  ]
}